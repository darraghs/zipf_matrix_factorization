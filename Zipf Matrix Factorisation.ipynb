{
 "cells": [
  {
   "cell_type": "code",
   "execution_count": 1,
   "id": "160b481b",
   "metadata": {},
   "outputs": [],
   "source": [
    "import numpy as np"
   ]
  },
  {
   "cell_type": "code",
   "execution_count": 17,
   "id": "234773f9",
   "metadata": {},
   "outputs": [],
   "source": [
    "def find_max_rank( ranks ):\n",
    "    \"\"\" Find the highest ranked item \"\"\"\n",
    "    max_rank  = 0\n",
    "    for i in len(ranks):\n",
    "        if ranks[i] > max_rank:\n",
    "            max_rank = ranks[i]\n",
    "    return max_rank"
   ]
  },
  {
   "cell_type": "code",
   "execution_count": 18,
   "id": "62cacd2b",
   "metadata": {},
   "outputs": [],
   "source": [
    "def find_max_rating_score(user_item_ratings):\n",
    "    max_item_score = 0 \n",
    "    \n",
    "    for i in range(len(user_item_ratings)):\n",
    "        for j in range(len(user_item_ratings[i])):\n",
    "                if user_item_ratings[i][j] > max_item_score:\n",
    "                    max_item_score = user_item_ratings[i][j]\n",
    "    return max_item_score"
   ]
  },
  {
   "cell_type": "markdown",
   "id": "aed94a1d",
   "metadata": {},
   "source": [
    "$$ ||u|| = \\sqrt{u_{0}^{2}+u_{1}^{2}......u_{n}^{2}} $$"
   ]
  },
  {
   "cell_type": "code",
   "execution_count": 22,
   "id": "7df8cd44",
   "metadata": {},
   "outputs": [],
   "source": [
    "def norm_vector(vector):\n",
    "    output = 0\n",
    "    for i in len(vector):\n",
    "        output = output + ( vector[i] ** 2 ) "
   ]
  },
  {
   "cell_type": "markdown",
   "id": "97109055",
   "metadata": {},
   "source": [
    "$$ {U_{i}^{T}\\cdot V_{j}} $$"
   ]
  },
  {
   "cell_type": "code",
   "execution_count": null,
   "id": "351c55a7",
   "metadata": {},
   "outputs": [],
   "source": [
    "def user_feature_dot_item_feature(user_feature_vector, item_feature_vector):\n",
    "    return np.dot(np.transpose(user_feature_vector), item_feature_vector)"
   ]
  },
  {
   "cell_type": "markdown",
   "id": "224a1f71",
   "metadata": {},
   "source": [
    "$$ || U_{i} || \\cdot || V_{j} || $$"
   ]
  },
  {
   "cell_type": "code",
   "execution_count": null,
   "id": "e1890823",
   "metadata": {},
   "outputs": [],
   "source": [
    "def norm_user_feature_dot_norm_item_feature(user_feature_vector, item_feature_vector):\n",
    "    return np.dot(norm_vector(user_feature_vector), norm_vector(item_feature_vector))"
   ]
  },
  {
   "cell_type": "markdown",
   "id": "79001ffa",
   "metadata": {},
   "source": [
    "#### Estimate Rank Function"
   ]
  },
  {
   "cell_type": "markdown",
   "id": "0e4602a9",
   "metadata": {},
   "source": [
    "$$ x_{j} = \\sum \\limits _{i=1} ^{m} \\alpha_{i}U_{i}^{T}\\cdot V_{j} $$"
   ]
  },
  {
   "cell_type": "code",
   "execution_count": 15,
   "id": "15153753",
   "metadata": {},
   "outputs": [],
   "source": [
    "def estimate_rank( alpha_coefficents, user_feature_vectors, item_feature_vector ):\n",
    "    \"\"\"Calculate the estimated rank of the item based on the user_feature_vectors and the item_feature_vector\"\"\"\n",
    "    rank = 0\n",
    "\n",
    "    for i in range( 0, len(user_feature_vectors)):\n",
    "        rank = rank + np.multiply(alpha_coefficents[i], np.dot(user_feature_vectors[i], item_feature_vector))\n",
    "    return rank"
   ]
  },
  {
   "cell_type": "markdown",
   "id": "c7fb372d",
   "metadata": {},
   "source": [
    "#### Zipf Exponent"
   ]
  },
  {
   "cell_type": "markdown",
   "id": "872c715b",
   "metadata": {},
   "source": [
    "$$ s = 1 + n \\left( \\begin{array}{cc} \\sum \\limits _{i=1} ^{n} ln \\frac{x_{i}}{x_{max}}  \\end{array}\\right)^{-1}  $$"
   ]
  },
  {
   "cell_type": "code",
   "execution_count": null,
   "id": "9959dbb1",
   "metadata": {},
   "outputs": [],
   "source": [
    "def zipf_exponent(alpha_coefficents, user_feature_vectors, item_feature_vectors):\n",
    "    ranks = []\n",
    "    for i in range( item_feature_vectors ):\n",
    "        ranks.append(estimate_rank(alpha_coefficents, user_feature_vectors, item_feature_vectors[i]))\n",
    "    max_rank = find_max_rank(ranks)\n",
    "\n",
    "    sum_ranks = 0\n",
    "    for j in len(ranks):\n",
    "        sum_ranks = sum_ranks + np.log(np.divide(ranks[j], max_rank))\n",
    "\n",
    "    return 1 + np.multiply(len(item_feature_vectors), np.power(sum_ranks, -1))"
   ]
  },
  {
   "cell_type": "markdown",
   "id": "5d2656d2",
   "metadata": {},
   "source": [
    "### Loss Function"
   ]
  },
  {
   "cell_type": "markdown",
   "id": "39627e87",
   "metadata": {},
   "source": [
    "$$ L =\\sum \\limits _{i=1} ^{m}\\sum \\limits _{j=1} ^{n} \\left( \\begin{array}{cc} \\frac{R_{ij}}{R_{max}} - \\frac{U_{i}^{T}\\cdot V_{j}}{ || U_{i} || \\cdot || V_{j} || } \\end{array}\\right)^{2} - \\beta \\left( \\begin{array}{cc} 1 + n \\left( \\begin{array}{cc} \\sum \\limits _{i=1} ^{n} ln \\frac{x_{i}}{x_{max}}  \\end{array}\\right)^{-1} \\end{array}\\right) $$"
   ]
  },
  {
   "cell_type": "code",
   "execution_count": 23,
   "id": "bd05ae5c",
   "metadata": {},
   "outputs": [],
   "source": [
    "def loss_function(user_items_ratings_scores, user_feature_vectors, item_feature_vectors, alpha_coefficents,\n",
    "                  beta_coefficent):\n",
    "    max_item_score = find_max_rating_score(user_items_ratings_scores)\n",
    "\n",
    "    matrix_loss = 0\n",
    "    for i in range(m):\n",
    "        for i in range(n):\n",
    "            matrix_loss = matrix_loss + np.divide(user_items_ratings_scores[i][j], max_item_score) - \\\n",
    "                          np.divide(user_feature_dot_item_feature(user_feature_vectors[i], item_feature_vector[i]),\n",
    "                                    norm_user_feature_dot_norm_item_feature(user_feature_vectors[i],\n",
    "                                                                            item_feature_vector[i]))\n",
    "            \n",
    "    matrix_loss = np.power(matrix_loss, 2)\n",
    "    \n",
    "    #Penalize by ZipF exponent\n",
    "    matrix_loss = matrix_loss - np.multiply(beta_coefficent, zipf_exponent(alpha_coefficents, user_feature_vectors,\n",
    "                                                                           item_feature_vectors))\n",
    "    \n",
    "    return matrix_loss\n"
   ]
  },
  {
   "cell_type": "markdown",
   "id": "b6f42cd6",
   "metadata": {},
   "source": [
    "$$ U_{i} = U_{i} - \\mathcal{E} \\cdot \\left( \\begin{array}{cc}   \\frac{n}{log\\left( \\begin{array}{cc} \\alpha_{ij} \\cdot \\frac{t_{0}}{n} \\end{array}\\right)^{2}} \\end{array}\\right)$$"
   ]
  },
  {
   "cell_type": "markdown",
   "id": "c00ad772",
   "metadata": {},
   "source": [
    "$$ \\frac{n}{log\\left( \\begin{array}{cc} \\alpha_{ij} \\cdot \\frac{t_{0}}{n} \\end{array}\\right)^{2}} $$"
   ]
  },
  {
   "cell_type": "markdown",
   "id": "85bc17e9",
   "metadata": {},
   "source": [
    "$$ \\frac{n}{\\left( \\begin{array}{cc} \\alpha_{ij} \\cdot \\frac{t_{0}}{n} \\end{array}\\right)} $$"
   ]
  },
  {
   "cell_type": "code",
   "execution_count": null,
   "id": "de0681a1",
   "metadata": {},
   "outputs": [],
   "source": []
  }
 ],
 "metadata": {
  "kernelspec": {
   "display_name": "Python 3 (ipykernel)",
   "language": "python",
   "name": "python3"
  },
  "language_info": {
   "codemirror_mode": {
    "name": "ipython",
    "version": 3
   },
   "file_extension": ".py",
   "mimetype": "text/x-python",
   "name": "python",
   "nbconvert_exporter": "python",
   "pygments_lexer": "ipython3",
   "version": "3.8.11"
  }
 },
 "nbformat": 4,
 "nbformat_minor": 5
}
