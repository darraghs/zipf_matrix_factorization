{
 "cells": [
  {
   "cell_type": "code",
   "execution_count": null,
   "id": "160b481b",
   "metadata": {},
   "outputs": [],
   "source": [
    "import numpy as np"
   ]
  },
  {
   "cell_type": "code",
   "execution_count": null,
   "id": "234773f9",
   "metadata": {},
   "outputs": [],
   "source": [
    "def find_max_rank( ranks ):\n",
    "    \"\"\" Find the highest ranked item \"\"\"\n",
    "    max_rank  = 0\n",
    "    for i in len(ranks):\n",
    "        if ranks[i] > max_rank:\n",
    "            max_rank = ranks[i]\n",
    "    return max_rank"
   ]
  },
  {
   "cell_type": "code",
   "execution_count": null,
   "id": "62cacd2b",
   "metadata": {},
   "outputs": [],
   "source": [
    "def find_max_rating_score(user_item_ratings):\n",
    "    max_item_score = 0 \n",
    "    \n",
    "    for i in range(len(user_item_ratings)):\n",
    "        for j in range(len(user_item_ratings[i])):\n",
    "                if user_item_ratings[i][j] > max_item_score:\n",
    "                    max_item_score = user_item_ratings[i][j]\n",
    "    return max_item_score"
   ]
  },
  {
   "cell_type": "markdown",
   "id": "aed94a1d",
   "metadata": {},
   "source": [
    "$$ ||u|| = \\sqrt{u_{0}^{2}+u_{1}^{2}......u_{n}^{2}} $$"
   ]
  },
  {
   "cell_type": "code",
   "execution_count": null,
   "id": "7df8cd44",
   "metadata": {},
   "outputs": [],
   "source": [
    "def norm_vector(vector):\n",
    "    output = 0\n",
    "    for i in len(vector):\n",
    "        output = output + ( vector[i] ** 2 ) \n",
    "    return np.sqrt(output)"
   ]
  },
  {
   "cell_type": "markdown",
   "id": "97109055",
   "metadata": {},
   "source": [
    "$$ {U_{i}^{T}\\cdot V_{j}} $$"
   ]
  },
  {
   "cell_type": "code",
   "execution_count": null,
   "id": "351c55a7",
   "metadata": {},
   "outputs": [],
   "source": [
    "def user_feature_dot_item_feature(user_feature_vector, item_feature_vector):\n",
    "    return np.dot(np.transpose(user_feature_vector), item_feature_vector)"
   ]
  },
  {
   "cell_type": "markdown",
   "id": "224a1f71",
   "metadata": {},
   "source": [
    "$$ || U_{i} || \\cdot || V_{j} || $$"
   ]
  },
  {
   "cell_type": "code",
   "execution_count": null,
   "id": "e1890823",
   "metadata": {},
   "outputs": [],
   "source": [
    "def norm_user_feature_dot_norm_item_feature(user_feature_vector, item_feature_vector):\n",
    "    return np.dot(norm_vector(user_feature_vector), norm_vector(item_feature_vector))"
   ]
  },
  {
   "cell_type": "markdown",
   "id": "9cb11f44",
   "metadata": {},
   "source": [
    "$$ \\frac{{U_{i}^{T}\\cdot V_{j}}}{ || U_{i} || \\cdot || V_{j} || } $$"
   ]
  },
  {
   "cell_type": "code",
   "execution_count": null,
   "id": "cee8ee04",
   "metadata": {},
   "outputs": [],
   "source": [
    "def user_dot_item_div_norm(user_feature_vector, item_feature_vector):\n",
    "    user_dot_item = user_feature_dot_item_feature(user_feature_vector, item_feature_vector)\n",
    "    norm_user_dot_item = norm_user_feature_dot_norm_item_feature(user_feature_vector, item_feature_vector)\n",
    "    return np.divide(user_dot_item, norm_user_dot_item)"
   ]
  },
  {
   "cell_type": "markdown",
   "id": "79001ffa",
   "metadata": {},
   "source": [
    "#### Estimate Rank Function"
   ]
  },
  {
   "cell_type": "markdown",
   "id": "0e4602a9",
   "metadata": {},
   "source": [
    "$$ x_{j} = \\sum \\limits _{i=1} ^{m} \\alpha_{i}U_{i}^{T}\\cdot V_{j} $$"
   ]
  },
  {
   "cell_type": "code",
   "execution_count": null,
   "id": "15153753",
   "metadata": {},
   "outputs": [],
   "source": [
    "def estimate_rank( alpha_coefficents, user_feature_vectors, item_feature_vector ):\n",
    "    \"\"\"Calculate the estimated rank of the item based on the user_feature_vectors and the item_feature_vector\"\"\"\n",
    "    rank = 0\n",
    "\n",
    "    for i in range( 0, len(user_feature_vectors)):\n",
    "        rank = rank + np.multiply(alpha_coefficents[i], np.dot(user_feature_vectors[i], item_feature_vector))\n",
    "    return rank"
   ]
  },
  {
   "cell_type": "markdown",
   "id": "c7fb372d",
   "metadata": {},
   "source": [
    "#### Zipf Exponent"
   ]
  },
  {
   "cell_type": "markdown",
   "id": "872c715b",
   "metadata": {},
   "source": [
    "$$ s = 1 + n \\left( \\begin{array}{cc} \\sum \\limits _{i=1} ^{n} ln \\frac{x_{i}}{x_{max}}  \\end{array}\\right)^{-1}  $$"
   ]
  },
  {
   "cell_type": "code",
   "execution_count": null,
   "id": "9959dbb1",
   "metadata": {},
   "outputs": [],
   "source": [
    "def zipf_exponent(alpha_coefficents, user_feature_vectors, item_feature_vectors):\n",
    "    ranks = []\n",
    "    for i in range( item_feature_vectors ):\n",
    "        ranks.append(estimate_rank(alpha_coefficents, user_feature_vectors, item_feature_vectors[i]))\n",
    "    max_rank = find_max_rank(ranks)\n",
    "\n",
    "    sum_ranks = 0\n",
    "    for j in len(ranks):\n",
    "        sum_ranks = sum_ranks + np.log(np.divide(ranks[j], max_rank))\n",
    "\n",
    "    return 1 + np.multiply(len(item_feature_vectors), np.power(sum_ranks, -1))"
   ]
  },
  {
   "cell_type": "markdown",
   "id": "5d2656d2",
   "metadata": {},
   "source": [
    "### Loss Function"
   ]
  },
  {
   "cell_type": "markdown",
   "id": "39627e87",
   "metadata": {},
   "source": [
    "$$ L =\\sum \\limits _{i=1} ^{m}\\sum \\limits _{j=1} ^{n} \\left( \\begin{array}{cc} \\frac{R_{ij}}{R_{max}} - \\frac{U_{i}^{T}\\cdot V_{j}}{ || U_{i} || \\cdot || V_{j} || } \\end{array}\\right)^{2} - \\beta \\left( \\begin{array}{cc} 1 + n \\left( \\begin{array}{cc} \\sum \\limits _{i=1} ^{n} ln \\frac{x_{i}}{x_{max}}  \\end{array}\\right)^{-1} \\end{array}\\right) $$"
   ]
  },
  {
   "cell_type": "code",
   "execution_count": null,
   "id": "bd05ae5c",
   "metadata": {},
   "outputs": [],
   "source": [
    "def loss_function(user_items_ratings_scores, user_feature_vectors, item_feature_vectors, alpha_coefficents,\n",
    "                  beta_coefficent):\n",
    "    max_item_score = find_max_rating_score(user_items_ratings_scores)\n",
    "\n",
    "    matrix_loss = 0\n",
    "    for i in range(m):\n",
    "        for j in range(n):\n",
    "            matrix_loss = matrix_loss + np.divide(user_items_ratings_scores[i][j], max_item_score) - \\\n",
    "                            user_dot_item_div_norm(user_feature_vectors[i], item_feature_vector[j])\n",
    "                          \n",
    "    matrix_loss = np.power(matrix_loss, 2)\n",
    "    \n",
    "    #Penalize by ZipF exponent\n",
    "    matrix_loss = matrix_loss - np.multiply(beta_coefficent, zipf_exponent(alpha_coefficents, user_feature_vectors,\n",
    "                                                                           item_feature_vectors))\n",
    "    \n",
    "    return matrix_loss\n"
   ]
  },
  {
   "cell_type": "markdown",
   "id": "773d951a",
   "metadata": {},
   "source": [
    "### Optimal User Feature Vector"
   ]
  },
  {
   "cell_type": "markdown",
   "id": "d192bb7e",
   "metadata": {},
   "source": [
    "$$ U_{i} = U_{i} - \\mathcal{E} \\cdot \\left( \\begin{array}{cc} \\beta \\cdot  \\frac{n}{\\left( \\begin{array}{cc} log\\left( \\begin{array}{cc} \\alpha_{ij} \\cdot \\frac{t_{0}}{n} \\end{array}\\right)^{2} \\end{array}\\right)\\cdot t_{0}} \\cdot V_{j}\n",
    " -2 \\cdot  \\frac{\\left( \\begin{array}{cc} R_{ij} - \\frac{t_{0}}{t_{3}} \\end{array}\\right)}{t_{3}} \\cdot V_{j} -2 \\cdot t_{0} \\cdot \\frac{\\left( \\begin{array}{cc}R_{ij}-\\frac{t_{o}}{t_{3}}\\end{array}\\right)}{\\left( \\begin{array}{cc} t_{1}^{3} \\cdot t_{2} \\end{array}\\right)} \\cdot U_{i}  \\end{array}\\right)$$\n",
    " <br>\n",
    " where\n",
    " $$ t_{0} = U_{i}^{T} \\cdot V_{j} $$ \n",
    " <br>\n",
    " $$ t_{1} = || U_{i} || $$\n",
    " <br>\n",
    " $$ t_{2} = || V_{j} || $$\n",
    " <br>\n",
    " $$ t_{3} = t_{1} \\cdot t_{2} $$ "
   ]
  },
  {
   "cell_type": "markdown",
   "id": "01bb5a10",
   "metadata": {},
   "source": [
    "#### Decompose Matrix Factorizaton"
   ]
  },
  {
   "cell_type": "markdown",
   "id": "8312b87f",
   "metadata": {},
   "source": [
    "$$  log\\left( \\begin{array}{cc} \\alpha_{ij} \\cdot \\frac{t_{0}}{n} \\end{array}\\right)^{2}$$\n",
    "<br>\n",
    "Expanded Form:\n",
    "<br>\n",
    "$$  log\\left( \\begin{array}{cc} \\alpha_{ij} \\cdot \\frac{U_{i}^{T} \\cdot V_{j}}{n} \\end{array}\\right)^{2}$$"
   ]
  },
  {
   "cell_type": "code",
   "execution_count": null,
   "id": "512b0a82",
   "metadata": {},
   "outputs": [],
   "source": [
    "def log_alpha_dot_vectors(alpha_coefficent, user_feature_vector, item_feature_vector, n):\n",
    "    vectors_divide = np.divide(user_feature_dot_item_feature(user_feature_vector, item_feature_vector), n) \n",
    "    coeff = np.dot(alpha_coefficent, vectors_divide)\n",
    "    coeff_log = np.log10(coeff)\n",
    "    squared_log = np.power(coeff_log, 2)\n",
    "    return squared_log"
   ]
  },
  {
   "cell_type": "markdown",
   "id": "90512dd1",
   "metadata": {},
   "source": [
    "$$ \\left( \\begin{array}{cc} log\\left( \\begin{array}{cc} \\alpha_{ij} \\cdot \\frac{t_{0}}{n} \\end{array}\\right)^{2} \\end{array}\\right)\\cdot t_{0}$$\n",
    "<br>\n",
    "Expanded Form:\n",
    "<br>\n",
    "$$ \\left( \\begin{array}{cc} log\\left( \\begin{array}{cc} \\alpha_{ij} \\cdot \\frac{U_{i}^{T} \\cdot V_{j}}{n} \\end{array}\\right)^{2} \\end{array}\\right)\\cdot \\left( \\begin{array}{cc} U_{i}^{T} \\cdot V_{j}\\end{array}\\right)$$"
   ]
  },
  {
   "cell_type": "code",
   "execution_count": null,
   "id": "f5c388c9",
   "metadata": {},
   "outputs": [],
   "source": [
    "def log_square_dot_product(alpha_coefficent, user_feature_vector, item_feature_vector, n):\n",
    "    dot_products = user_feature_dot_item_feature(user_feature_vector, item_feature_vector)\n",
    "    log_squared = log_alpha_dot_vectors(alpha_coefficent, user_feature_vector, item_feature_vector, n)\n",
    "    return np.dot(log_squared, dot_products)"
   ]
  },
  {
   "cell_type": "markdown",
   "id": "07526aba",
   "metadata": {},
   "source": [
    "$$ \\left( \\begin{array}{cc} \\beta \\cdot  \\frac{n}{\\left( \\begin{array}{cc} log\\left( \\begin{array}{cc} \\alpha_{ij} \\cdot \\frac{t_{0}}{n} \\end{array}\\right)^{2} \\end{array}\\right)\\cdot t_{0}} \n",
    "  \\end{array}\\right)$$\n",
    "  <br>\n",
    "Expanded Form:\n",
    "<br>\n",
    "$$ \\left( \\begin{array}{cc} \\beta \\cdot  \\frac{n}{\\left( \\begin{array}{cc} log\\left( \\begin{array}{cc} \\alpha_{ij} \\cdot \\frac{U_{i}^{T} \\cdot V_{j}}{n} \\end{array}\\right)^{2} \\end{array}\\right)\\cdot U_{i}^{T} \\cdot V_{j}}  \n",
    "  \\end{array}\\right)$$"
   ]
  },
  {
   "cell_type": "code",
   "execution_count": null,
   "id": "c0f5e182",
   "metadata": {},
   "outputs": [],
   "source": [
    "def beta_alpha_squared_dot_vectors(alpha_coefficent, beta_coefficent, user_feature_vector, item_feature_vector, n):\n",
    "    log_square_dot_product_val = log_square_dot_product(alpha_coefficent, user_feature_vector, item_feature_vector, n )\n",
    "    log_square_dot_product_val = np.divide(n, log_square_dot_product_val)\n",
    "    return np.dot(beta_coefficent, item_dot_log_square)"
   ]
  },
  {
   "cell_type": "markdown",
   "id": "90975f53",
   "metadata": {},
   "source": [
    "$$ \\left( \\begin{array}{cc} \\beta \\cdot  \\frac{n}{\\left( \\begin{array}{cc} log\\left( \\begin{array}{cc} \\alpha_{ij} \\cdot \\frac{t_{0}}{n} \\end{array}\\right)^{2} \\end{array}\\right)\\cdot t_{0}} \\cdot V_{j}\n",
    "  \\end{array}\\right)$$\n",
    "  <br>\n",
    "Expanded Form:\n",
    "<br>\n",
    "$$ \\left( \\begin{array}{cc} \\beta \\cdot  \\frac{n}{\\left( \\begin{array}{cc} log\\left( \\begin{array}{cc} \\alpha_{ij} \\cdot \\frac{U_{i}^{T} \\cdot V_{j}}{n} \\end{array}\\right)^{2} \\end{array}\\right)\\cdot U_{i}^{T} \\cdot V_{j}} \\cdot V_{j}\n",
    "  \\end{array}\\right)$$"
   ]
  },
  {
   "cell_type": "code",
   "execution_count": null,
   "id": "aafbbc6f",
   "metadata": {},
   "outputs": [],
   "source": [
    "def beta_alpha_squared_dot_vectors_dot_item(alpha_coefficent, beta_coefficent, user_feature_vector, item_feature_vector, n):\n",
    "    log_square_dot_product_val = beta_alpha_squared_dot_vectors(alpha_coefficent, beta_coefficent, user_feature_vector, item_feature_vector, n)\n",
    "    return np.dot(log_square_dot_product_val, item_feature_vector)"
   ]
  },
  {
   "cell_type": "markdown",
   "id": "5abd495f",
   "metadata": {},
   "source": [
    "$$ \\left( \\begin{array}{cc} R_{ij} - \\frac{t_{0}}{t_{3}} \\end{array}\\right) $$\n",
    "<br>\n",
    "Expanded Form:\n",
    "<br>\n",
    "$$\\left( \\begin{array}{cc} R_{ij} - \\frac{ U_{i}^{T} \\cdot V_{j}}{|| U_{i} || \\cdot || V_{j} ||} \\end{array}\\right)$$"
   ]
  },
  {
   "cell_type": "code",
   "execution_count": null,
   "id": "b2d77dad",
   "metadata": {},
   "outputs": [],
   "source": [
    "def rating_minus_user_item_dot(user_item_rating, user_feature_vector, item_feature_vector):\n",
    "    user_dot_item_div = user_dot_item_div_norm(user_feature_vector, item_feature_vector)\n",
    "    rating_minus_user_dot_item = np.subtract(user_item_rating, user_dot_item_div)\n",
    "    return rating_minus_user_dot_item"
   ]
  },
  {
   "cell_type": "markdown",
   "id": "73714b5b",
   "metadata": {},
   "source": [
    "$$ \\frac{\\left( \\begin{array}{cc} R_{ij} - \\frac{t_{0}}{t_{3}} \\end{array}\\right)}{t_{3}} $$\n",
    "<br>\n",
    "Expanded Form:\n",
    "<br>\n",
    "$$ \\frac{\\left( \\begin{array}{cc} R_{ij} - \\frac{ U_{i}^{T} \\cdot V_{j}}{t_{1} \\cdot t_{2}} \\end{array}\\right)}{t_{1} \\cdot t_{2}} $$\n",
    "<br>Further expansion:\n",
    "<br>\n",
    "$$ \\frac{\\left( \\begin{array}{cc} R_{ij} - \\frac{ U_{i}^{T} \\cdot V_{j}}{|| U_{i} || \\cdot || V_{j} ||} \\end{array}\\right)}{|| U_{i} || \\cdot|| V_{j} ||} $$\n"
   ]
  },
  {
   "cell_type": "code",
   "execution_count": null,
   "id": "a985155d",
   "metadata": {},
   "outputs": [],
   "source": [
    "def rating_dot_user_item_vectors_product(user_item_rating, user_feature_vector, item_feature_vector):\n",
    "    user_dot_item_div = rating_minus_user_item_dot(user_item_rating, user_feature_vector, item_feature_vector)\n",
    "    norms = norm_user_feature_dot_norm_item_feature(user_feature_vector, item_feature_vector)\n",
    "    return np.divide(rating_minus_user_dot_item, norms)"
   ]
  },
  {
   "cell_type": "markdown",
   "id": "1d4b2fc1",
   "metadata": {},
   "source": [
    "$$  \\left( \\begin{array}{cc} \n",
    " 2 \\cdot  \\frac{\\left( \\begin{array}{cc} R_{ij} - \\frac{t_{0}}{t_{3}} \\end{array}\\right)}{t_{3}} \\cdot V_{j} \\end{array}\\right)$$\n",
    " <br>Further expansion:\n",
    "<br>\n",
    "$$  \n",
    " 2 \\cdot  \\frac{\\left( \\begin{array}{cc} R_{ij} - \\frac{ U_{i}^{T} \\cdot V_{j}}{|| U_{i} || \\cdot || V_{j} ||} \\end{array}\\right)}{|| U_{i} || \\cdot|| V_{j} ||} \\cdot V_{j} $$"
   ]
  },
  {
   "cell_type": "code",
   "execution_count": null,
   "id": "e6d277c6",
   "metadata": {},
   "outputs": [],
   "source": [
    "def rating_user_item_product(user_item_rating, user_feature_vector, item_feature_vector):\n",
    "    rating_dot_user_item_product_val = rating_dot_user_item_vectors_product(user_item_rating, user_feature_vector, item_feature_vector)\n",
    "    rating_dot_user_item_product_val = np.dot(rating_dot_user_item_vectors_product_val, item_feature_vector)\n",
    "    rating_dot_user_item_product_val = np.dot(2, rating_dot_user_item_product_val)\n",
    "    return rating_dot_user_item_product_val"
   ]
  },
  {
   "cell_type": "markdown",
   "id": "7a3face8",
   "metadata": {},
   "source": [
    "$$ \\left( \\begin{array}{cc} || U_{i} ||^{3} \\cdot || V_{j} || \\end{array}\\right) $$"
   ]
  },
  {
   "cell_type": "code",
   "execution_count": null,
   "id": "6684ea44",
   "metadata": {},
   "outputs": [],
   "source": [
    "def user_cubed_dot_item(user_feature_vector, item_feature_vector):\n",
    "    user_norm = norm_vector(user_feature_vector)\n",
    "    item_norm = norm_vector(item_feature_vector)\n",
    "    user_cubed = np.power(user_norm, 3)\n",
    "    return np.dot(user_cubed, item_norm)"
   ]
  },
  {
   "cell_type": "markdown",
   "id": "247c9a92",
   "metadata": {},
   "source": [
    "$$  2 \\cdot t_{0} \\cdot \\frac{\\left( \\begin{array}{cc}R_{ij}-\\frac{t_{o}}{t_{3}}\\end{array}\\right)}{\\left( \\begin{array}{cc} t_{1}^{3} \\cdot t_{2} \\end{array}\\right)} \\cdot U_{i} $$\n",
    "<br>\n",
    "Expanded:\n",
    "<br>\n",
    "$$ 2 \\cdot \\left( \\begin{array}{cc} U_{i}^{T} \\cdot V_{j} \\end{array}\\right) \\cdot \\frac{ \\left( \\begin{array}{cc} R_{ij} - \\frac{ U_{i}^{T} \\cdot V_{j}}{|| U_{i} || \\cdot || V_{j} ||} \\end{array}\\right)}{\\left( \\begin{array}{cc} || U_{i} ||^{3} \\cdot || V_{j} || \\end{array}\\right)} \\cdot U_{i} $$ \n",
    "<br>"
   ]
  },
  {
   "cell_type": "code",
   "execution_count": null,
   "id": "8572dcff",
   "metadata": {},
   "outputs": [],
   "source": [
    "def ratings_user_cubed_item_dot_product(user_item_rating, user_feature_vector, item_feature_vector):\n",
    "    rating_minus_user_item = rating_minus_user_item_dot(user_item_rating, user_feature_vector, item_feature_vector)\n",
    "    user_cubed = user_cubed_dot_item(user_feature_vector, item_feature_vector)\n",
    "    rating_div_user_cubed = np.divide(rating_minus_user_item, user_cubed)\n",
    "    \n",
    "    user_dot_item = user_feature_dot_item_feature(user_feature_vector, item_feature_vector)\n",
    "    \n",
    "    user_dot_rating_cubed = np.dot(user_dot_item, rating_div_user_cubed)\n",
    "    return np.dot(2, np.dot(user_dot_rating_cubed, user_feature_vector))"
   ]
  },
  {
   "cell_type": "markdown",
   "id": "6ffc203c",
   "metadata": {},
   "source": [
    "$$ U_{i} = U_{i} - \\mathcal{E} \\cdot \\left( \\begin{array}{cc} \\beta \\cdot  \\frac{n}{\\left( \\begin{array}{cc} log\\left( \\begin{array}{cc} \\alpha_{ij} \\cdot \\frac{t_{0}}{n} \\end{array}\\right)^{2} \\end{array}\\right)\\cdot t_{0}} \\cdot V_{j}\n",
    " -2 \\cdot  \\frac{\\left( \\begin{array}{cc} R_{ij} - \\frac{t_{0}}{t_{3}} \\end{array}\\right)}{t_{3}} \\cdot V_{j} -2 \\cdot t_{0} \\cdot \\frac{\\left( \\begin{array}{cc}R_{ij}-\\frac{t_{o}}{t_{3}}\\end{array}\\right)}{\\left( \\begin{array}{cc} t_{1}^{3} \\cdot t_{2} \\end{array}\\right)} \\cdot U_{i}  \\end{array}\\right)$$"
   ]
  },
  {
   "cell_type": "code",
   "execution_count": null,
   "id": "e3ed385a",
   "metadata": {},
   "outputs": [],
   "source": [
    "def optimise_user_feature_vector(epsilion, alpha_coefficent, beta_coefficent, user_item_rating, user_feature_vector, item_feature_vector, n):\n",
    "    beta_alpha =  beta_alpha_squared_dot_vectors_dot_item(alpha_coefficent, beta_coefficent, user_feature_vector, item_feature_vector, n)\n",
    "    user_rating_product = rating_user_item_product(user_item_rating, user_feature_vector, item_feature_vector)\n",
    "    rating_cubed = ratings_user_cubed_item_dot_product(user_item_rating, user_feature_vector, item_feature_vector)\n",
    "    beta_user_rating_product = np.subtract(beta_alpha,user_rating_product)\n",
    "    beta_user_rating_product_cubed = np.subtract(beta_user_rating_product, rating_cubed)\n",
    "    epsilion_ratings = np.dot(epsilion, beta_user_rating_product_cubed)\n",
    "    return np.subtract(user_feature_vector, epsilion_ratings)\n"
   ]
  },
  {
   "cell_type": "markdown",
   "id": "317cc912",
   "metadata": {},
   "source": [
    "### Optimal Item Feature Vector"
   ]
  },
  {
   "cell_type": "markdown",
   "id": "23cd9661",
   "metadata": {},
   "source": [
    "$$ V_{j} = V_{j} - \\mathcal{E} \\cdot \\left( \\begin{array}{cc} \\beta \\cdot  \\frac{n}{\\left( \\begin{array}{cc} log\\left( \\begin{array}{cc} \\alpha_{ij} \\cdot \\frac{t_{0}}{n} \\end{array}\\right)^{2} \\end{array}\\right)\\cdot t_{0}} \\cdot U_{i}\n",
    "-  \\frac{t_{4}}{t_{3}} \\cdot U_{i} + \\frac{\\left( \\begin{array}{cc}t_{0} \\cdot t_{4}\\end{array}\\right)}{\\left( \\begin{array}{cc}t_{2}^{3} \\cdot t_{1}\\end{array}\\right)} \\cdot V_{j} \\end{array}\\right)$$\n",
    "<br>\n",
    " where\n",
    " $$ t_{0} = U_{i}^{T} \\cdot V_{j} $$ \n",
    " <br>\n",
    " $$ t_{1} = || U_{i} || $$\n",
    " <br>\n",
    " $$ t_{2} = || V_{j} || $$\n",
    " <br>\n",
    " $$ t_{3} = t_{1} \\cdot t_{2} $$ \n",
    " <br>\n",
    " $$ t_{4} = 2 \\cdot \\left( \\begin{array}{cc} R_{ij} - \\frac{t_{0}}{t_{3}} \\end{array}\\right)$$"
   ]
  },
  {
   "cell_type": "markdown",
   "id": "b137a0b5",
   "metadata": {},
   "source": [
    "### Decompose formulae"
   ]
  },
  {
   "cell_type": "markdown",
   "id": "266458d0",
   "metadata": {},
   "source": [
    "$$ \\left( \\begin{array}{cc} \\beta \\cdot  \\frac{n}{\\left( \\begin{array}{cc} log\\left( \\begin{array}{cc} \\alpha_{ij} \\cdot \\frac{t_{0}}{n} \\end{array}\\right)^{2} \\end{array}\\right)\\cdot t_{0}} \\cdot U_{i} \\end{array}\\right)$$"
   ]
  },
  {
   "cell_type": "code",
   "execution_count": null,
   "id": "7734f6cc",
   "metadata": {},
   "outputs": [],
   "source": [
    "def beta_alpha_squared_dot_vectors_dot_user(alpha_coefficent, beta_coefficent, user_feature_vector, item_feature_vector, n):\n",
    "    beta_alpha = beta_alpha_squared_dot_vectors(alpha_coefficent, beta_coefficent, user_feature_vector, item_feature_vector, n)\n",
    "    return np.dot(beta_alpha, user_feature_vector)"
   ]
  },
  {
   "cell_type": "markdown",
   "id": "a03c7947",
   "metadata": {},
   "source": [
    "$$ \\frac{t_{4}}{t_{3}}$$\n",
    "<br>\n",
    "expanded form:\n",
    "<br>\n",
    "$$ \\frac{ 2 \\cdot \\left( \\begin{array}{cc} R_{ij} - \\frac{U_{i}^{T} \\cdot V_{j}}{|| U_{i} || \\cdot|| V_{j} ||} \\end{array}\\right) }{|| U_{i} || \\cdot || V_{j} ||} $$"
   ]
  },
  {
   "cell_type": "code",
   "execution_count": null,
   "id": "49a09b68",
   "metadata": {},
   "outputs": [],
   "source": [
    "def t3_divide_t4(user_item_rating, user_feature_vector, item_feature_vector):\n",
    "    ratings = rating_minus_user_item_dot(user_item_rating, user_feature_vector, item_feature_vector)\n",
    "    ratings = np.dot(2, ratings)\n",
    "    norms = norm_user_feature_dot_norm_item_feature(user_feature_vector, item_feature_vector)\n",
    "    return np.divide( ratings, norm )"
   ]
  },
  {
   "cell_type": "markdown",
   "id": "6a9b05fb",
   "metadata": {},
   "source": [
    "$$ \\frac{t_{4}}{t_{3}} \\cdot U_{i} $$\n",
    "<br>\n",
    "expanded:\n",
    "<br>\n",
    "$$  \\frac{ 2 \\cdot \\left( \\begin{array}{cc} R_{ij} - \\frac{U_{i}^{T} \\cdot V_{j}}{|| U_{i} || \\cdot|| V_{j} ||} \\end{array}\\right) }{|| U_{i} || \\cdot || V_{j} ||} \\cdot U_{i} $$"
   ]
  },
  {
   "cell_type": "code",
   "execution_count": null,
   "id": "0499b16b",
   "metadata": {},
   "outputs": [],
   "source": [
    "def t3_divide_t4_dot_user(user_item_rating, user_feature_vector, item_feature_vector):\n",
    "    t3t4= t3_divide_t4(user_item_rating, user_feature_vector, item_feature_vector)\n",
    "    return np.dot(t3t4, user_feature_vector)"
   ]
  },
  {
   "cell_type": "markdown",
   "id": "f0baca62",
   "metadata": {},
   "source": [
    "$$ \\left( \\begin{array}{cc}t_{0} \\cdot t_{4}\\end{array}\\right)$$\n",
    "<br>\n",
    "expanded:\n",
    "<br>\n",
    "$$\\left( \\begin{array}{cc}  U_{i}^{T} \\cdot V_{j}\\end{array}\\right) \\cdot  \\left( \\begin{array}{cc}2 \\cdot \\left( \\begin{array}{cc} R_{ij} - \\frac{U_{i}^{T} \\cdot V_{j}}{|| U_{i} || \\cdot|| V_{j} ||} \\end{array}\\right) \\end{array}\\right)  $$"
   ]
  },
  {
   "cell_type": "code",
   "execution_count": null,
   "id": "e93ee1fe",
   "metadata": {},
   "outputs": [],
   "source": [
    "def t0_dot_t4(user_item_rating, user_feature_vector, item_feature_vector):\n",
    "    ratings = rating_minus_user_item_dot(user_item_rating, user_feature_vector, item_feature_vector)\n",
    "    ratings = np.dot(2, ratings)\n",
    "    user_dot_item = user_feature_dot_item_feature(user_feature_vector, item_feature_vector)\n",
    "    return np.dot(user_dot_item, ratings)"
   ]
  },
  {
   "cell_type": "markdown",
   "id": "e01280ce",
   "metadata": {},
   "source": [
    "$$ \\left( \\begin{array}{cc}t_{2}^{3} \\cdot t_{1}\\end{array}\\right) $$ \n",
    "<br>\n",
    "expanded: \n",
    "<br>\n",
    "$$ \\left( \\begin{array}{cc}||V_{j}||^{3} \\cdot ||U_{i}||\\end{array}\\right) $$"
   ]
  },
  {
   "cell_type": "code",
   "execution_count": null,
   "id": "f13b2d98",
   "metadata": {},
   "outputs": [],
   "source": [
    "def t2_cubed_dot_t1(user_feature_vector, item_feature_vector):\n",
    "    t2 = norm_vector(item_feature_vector)\n",
    "    t2_cubed = np.power(t2, 3)\n",
    "    t1 = norm_vector(user_feature_vector)\n",
    "    return np.dot(t2_cubed, t1)"
   ]
  },
  {
   "cell_type": "markdown",
   "id": "836c8351",
   "metadata": {},
   "source": [
    "$$ \\frac{\\left( \\begin{array}{cc}t_{0} \\cdot t_{4}\\end{array}\\right)}{\\left( \\begin{array}{cc}t_{2}^{3} \\cdot t_{1}\\end{array}\\right)} \\cdot V_{j} $$\n",
    "<br>\n",
    "expanded:\n",
    "<br>\n",
    "$$\\frac{\\left( \\begin{array}{cc}  U_{i}^{T} \\cdot V_{j}\\end{array}\\right) \\cdot  \\left( \\begin{array}{cc}2 \\cdot \\left( \\begin{array}{cc} R_{ij} - \\frac{U_{i}^{T} \\cdot V_{j}}{|| U_{i} || \\cdot|| V_{j} ||} \\end{array}\\right) \\end{array}\\right)}{\\left( \\begin{array}{cc}||V_{j}||^{3} \\cdot ||U_{i}||\\end{array}\\right)}  $$"
   ]
  },
  {
   "cell_type": "code",
   "execution_count": null,
   "id": "592054fa",
   "metadata": {},
   "outputs": [],
   "source": [
    "def t0_dot_t4_t2_t1( user_item_rating, user_feature_vector, item_feature_vector ):\n",
    "    t0_t4 = t0_dot_t4(user_item_rating, user_feature_vector, item_feature_vector)\n",
    "    t2_3_dot_t1 = t2_cubed_dot_t1(user_feature_vector, item_feature_vector)\n",
    "    t0_t4_div_t2 = np.divide(t0_t4, t2_3_dot_t1)\n",
    "    return np.dot(t0_t4_div_t2, item_feature_vector)"
   ]
  },
  {
   "cell_type": "markdown",
   "id": "168b37e7",
   "metadata": {},
   "source": [
    "$$ V_{j} = V_{j} - \\mathcal{E} \\cdot \\left( \\begin{array}{cc} \\beta \\cdot  \\frac{n}{\\left( \\begin{array}{cc} log\\left( \\begin{array}{cc} \\alpha_{ij} \\cdot \\frac{t_{0}}{n} \\end{array}\\right)^{2} \\end{array}\\right)\\cdot t_{0}} \\cdot U_{i}\n",
    "-  \\frac{t_{4}}{t_{3}} \\cdot U_{i} + \\frac{\\left( \\begin{array}{cc}t_{0} \\cdot t_{4}\\end{array}\\right)}{\\left( \\begin{array}{cc}t_{2}^{3} \\cdot t_{1}\\end{array}\\right)} \\cdot V_{j} \\end{array}\\right)$$"
   ]
  },
  {
   "cell_type": "code",
   "execution_count": null,
   "id": "1c70104a",
   "metadata": {},
   "outputs": [],
   "source": [
    "def optimise_item_vector(epsilion, alpha_coefficent, beta_coefficent, user_item_rating, user_feature_vector, item_feature_vector, n):\n",
    "    beta_alpha_dot_user = beta_alpha_squared_dot_vectors_dot_user(alpha_coefficent, beta_coefficent, user_feature_vector, item_feature_vector, n)\n",
    "    t3_div_t4 = t3_divide_t4_dot_user(user_item_rating, user_feature_vector, item_feature_vector)\n",
    "    t0_dot_t4_dot_item = t0_dot_t4_t2_t1( user_item_rating, user_feature_vector, item_feature_vector )\n",
    "    t4_add_t3 = np.add(t3_div_t4, t0_dot_t4_dot_item)\n",
    "    beta_minus_t3_t4 = np.subtract(beta_alpha_dot_user, t4_add_t3)\n",
    "    epsilion_dot = np.dot(epsilion, beta_minus_t3_t4)\n",
    "    return np.subtract(item_feature_vector, epsilion_dot )"
   ]
  }
 ],
 "metadata": {
  "kernelspec": {
   "display_name": "Python 3 (ipykernel)",
   "language": "python",
   "name": "python3"
  },
  "language_info": {
   "codemirror_mode": {
    "name": "ipython",
    "version": 3
   },
   "file_extension": ".py",
   "mimetype": "text/x-python",
   "name": "python",
   "nbconvert_exporter": "python",
   "pygments_lexer": "ipython3",
   "version": "3.8.11"
  }
 },
 "nbformat": 4,
 "nbformat_minor": 5
}
